{
 "cells": [
  {
   "cell_type": "markdown",
   "metadata": {},
   "source": [
    "# Chapter 1: Pythonic Thinking\n",
    "The Python community has come to use the adjective Pythonic to describe code that follows a particular style. The idioms of Python have emerged over time through experience using the language and working with others. This chapter covers the best way to do the most common things in Python."
   ]
  },
  {
   "cell_type": "markdown",
   "metadata": {},
   "source": [
    "## Know Which Version of Python You’re Using"
   ]
  },
  {
   "cell_type": "code",
   "execution_count": 3,
   "metadata": {},
   "outputs": [
    {
     "name": "stdout",
     "output_type": "stream",
     "text": [
      "sys.version_info(major=3, minor=6, micro=4, releaselevel='final', serial=0)\n",
      "3.6.4 |Anaconda, Inc.| (default, Jan 16 2018, 10:22:32) [MSC v.1900 64 bit (AMD64)]\n"
     ]
    }
   ],
   "source": [
    "import sys\n",
    "print(sys.version_info)\n",
    "print(sys.version)"
   ]
  },
  {
   "cell_type": "markdown",
   "metadata": {},
   "source": [
    "## Follow the PEP 8 Style Guide"
   ]
  },
  {
   "cell_type": "code",
   "execution_count": null,
   "metadata": {},
   "outputs": [],
   "source": []
  },
  {
   "cell_type": "markdown",
   "metadata": {},
   "source": [
    "## Know the Differences Between bytes, str, and unicode"
   ]
  },
  {
   "cell_type": "code",
   "execution_count": null,
   "metadata": {},
   "outputs": [],
   "source": []
  },
  {
   "cell_type": "markdown",
   "metadata": {},
   "source": [
    "## Write Helper Functions Instead of Complex Expressions"
   ]
  },
  {
   "cell_type": "markdown",
   "metadata": {},
   "source": [
    "## Know How to Slice Sequences"
   ]
  },
  {
   "cell_type": "markdown",
   "metadata": {},
   "source": [
    "## Avoid Using start, end, and stride in a Single Slice"
   ]
  },
  {
   "cell_type": "markdown",
   "metadata": {},
   "source": [
    "## Use List Comprehensions Instead of map and filter"
   ]
  },
  {
   "cell_type": "markdown",
   "metadata": {},
   "source": [
    "## Avoid More Than Two Expressions in List Comprehensions"
   ]
  },
  {
   "cell_type": "markdown",
   "metadata": {},
   "source": [
    "## Consider Generator Expressions for Large Comprehensions"
   ]
  },
  {
   "cell_type": "markdown",
   "metadata": {},
   "source": [
    "## Prefer enumerate Over range"
   ]
  },
  {
   "cell_type": "markdown",
   "metadata": {},
   "source": [
    "## Use zip to Process Iterators in Parallel"
   ]
  },
  {
   "cell_type": "markdown",
   "metadata": {},
   "source": [
    "## Avoid else Blocks After for and while Loops"
   ]
  },
  {
   "cell_type": "markdown",
   "metadata": {},
   "source": [
    "## Take Advantage of Each Block in try/except/else/finally"
   ]
  },
  {
   "cell_type": "markdown",
   "metadata": {},
   "source": [
    "# Chapter 2: Functions\n",
    "Functions in Python have a variety of extra features that make a programmer’s life easier. Some are similar to capabilities in other programming languages, but many are unique to Python. This chapter covers how to use functions to clarify intention, promote reuse, and reduce bugs.\n",
    "\n",
    "## Prefer Exceptions to Returning None\n",
    "## Know How Closures Interact with Variable Scope\n",
    "## Consider Generators Instead of Returning Lists\n",
    "## Be Defensive When Iterating Over Arguments\n",
    "## Reduce Visual Noise with Variable Positional Arguments\n",
    "## Provide Optional Behavior with Keyword Arguments\n",
    "## Use None and Docstrings to Specify Dynamic Default Arguments\n",
    "## Enforce Clarity with Keyword-Only Arguments"
   ]
  },
  {
   "cell_type": "code",
   "execution_count": null,
   "metadata": {},
   "outputs": [],
   "source": []
  },
  {
   "cell_type": "markdown",
   "metadata": {},
   "source": [
    "# Chapter 3: Classes and Inheritance\n",
    "Python is an object-oriented language. Getting things done in Python often requires writing new classes and defining how they interact through their interfaces and hierarchies. This chapter covers how to use classes and inheritance to express your intended behaviors with objects.\n",
    "\n",
    "## Prefer Helper Classes Over Bookkeeping with Dictionaries and Tuples\n",
    "## Accept Functions for Simple Interfaces Instead of Classes\n",
    "## Use @classmethod Polymorphism to Construct Objects Generically\n",
    "## Initialize Parent Classes with super\n",
    "## Use Multiple Inheritance Only for Mix-in Utility Classes\n",
    "## Prefer Public Attributes Over Private Ones\n",
    "## Inherit from collections.abc for Custom Container Types"
   ]
  },
  {
   "cell_type": "code",
   "execution_count": null,
   "metadata": {},
   "outputs": [],
   "source": []
  },
  {
   "cell_type": "markdown",
   "metadata": {},
   "source": [
    "# Chapter 4: Metaclasses and Attributes\n",
    "Metaclasses and dynamic attributes are powerful Python features. However, they also enable you to implement extremely bizarre and unexpected behaviors. This chapter covers the common idioms for using these mechanisms to ensure that you follow the rule of least surprise.\n",
    "\n",
    "## Use Plain Attributes Instead of Get and Set Methods\n",
    "## Consider @property Instead of Refactoring Attributes\n",
    "## Use Descriptors for Reusable @property Methods\n",
    "## Use __getattr__, __getattribute__, and __setattr__ for Lazy Attributes\n",
    "## Validate Subclasses with Metaclasses\n",
    "## Register Class Existence with Metaclasses\n",
    "## Annotate Class Attributes with Metaclasses"
   ]
  },
  {
   "cell_type": "code",
   "execution_count": null,
   "metadata": {},
   "outputs": [],
   "source": []
  },
  {
   "cell_type": "markdown",
   "metadata": {},
   "source": [
    "# Chapter 5: Concurrency and Parallelism\n",
    "Python makes it easy to write concurrent programs that do many different things seemingly at the same time. Python can also be used to do parallel work through system calls, subprocesses, and C-extensions. This chapter covers how to best utilize Python in these subtly different situations.\n",
    "\n",
    "## Use subprocess to Manage Child Processes\n",
    "## Use Threads for Blocking I/O, Avoid for Parallelism\n",
    "## Use Lock to Prevent Data Races in Threads\n",
    "## Use Queue to Coordinate Work Between Threads\n",
    "## Consider Coroutines to Run Many Functions Concurrently\n",
    "## Consider concurrent.futures for True Parallelism"
   ]
  },
  {
   "cell_type": "code",
   "execution_count": null,
   "metadata": {},
   "outputs": [],
   "source": []
  },
  {
   "cell_type": "markdown",
   "metadata": {},
   "source": [
    "# Chapter 6: Built-in Modules\n",
    "Python is installed with many of the important modules that you’ll need to write programs. These standard packages are so closely intertwined with idiomatic Python that they may as well be part of the language specification. This chapter covers the essential built-in modules.\n",
    "\n",
    "## Define Function Decorators with functools.wraps\n",
    "## Consider contextlib and with Statements for Reusable try/finally Behavior\n",
    "## Make pickle Reliable with copyreg\n",
    "## Use datetime Instead of time for Local Clocks\n",
    "## Use Built-in Algorithms and Data Structures\n",
    "## Use decimal When Precision is Paramount\n",
    "## Know Where to Find Community-Built Modules"
   ]
  },
  {
   "cell_type": "code",
   "execution_count": null,
   "metadata": {},
   "outputs": [],
   "source": []
  },
  {
   "cell_type": "code",
   "execution_count": null,
   "metadata": {},
   "outputs": [],
   "source": []
  },
  {
   "cell_type": "code",
   "execution_count": null,
   "metadata": {},
   "outputs": [],
   "source": []
  },
  {
   "cell_type": "markdown",
   "metadata": {},
   "source": [
    "# Chapter 7: Collaboration\n",
    "Collaborating on Python programs requires you to be deliberate about how you write your code. Even if you’re working alone, you’ll want to understand how to use modules written by others. This chapter covers the standard tools and best practices that enable people to work together on Python programs.\n",
    "\n",
    "## Write Docstrings for Every Function, Class, and Module\n",
    "## Use Packages to Organize Modules and Provide Stable APIs\n",
    "## Define a Root Exception to Insulate Callers from APIs\n",
    "## Know How to Break Circular Dependencies\n",
    "## Use Virtual Environments for Isolated and Reproducible Dependencies"
   ]
  },
  {
   "cell_type": "code",
   "execution_count": null,
   "metadata": {},
   "outputs": [],
   "source": []
  },
  {
   "cell_type": "code",
   "execution_count": null,
   "metadata": {},
   "outputs": [],
   "source": []
  },
  {
   "cell_type": "code",
   "execution_count": null,
   "metadata": {},
   "outputs": [],
   "source": []
  },
  {
   "cell_type": "markdown",
   "metadata": {},
   "source": [
    "# Chapter 8: Production\n",
    "Python has facilities for adapting to multiple deployment environments. It also has built-in modules that aid in hardening your programs and making them bulletproof. This chapter covers how to use Python to debug, optimize, and test your programs to maximize quality and performance at runtime.\n",
    "\n",
    "## Consider Module-Scoped Code to Configure Deployment Environments\n",
    "## Use repr Strings for Debugging Output\n",
    "## Test Everything with unittest\n",
    "## Consider Interactive Debugging with pdb\n",
    "## Profile Before Optimizing\n",
    "## Use tracemalloc to Understand Memory Usage and Leaks"
   ]
  },
  {
   "cell_type": "code",
   "execution_count": null,
   "metadata": {},
   "outputs": [],
   "source": []
  }
 ],
 "metadata": {
  "kernelspec": {
   "display_name": "Python 3",
   "language": "python",
   "name": "python3"
  },
  "language_info": {
   "codemirror_mode": {
    "name": "ipython",
    "version": 3
   },
   "file_extension": ".py",
   "mimetype": "text/x-python",
   "name": "python",
   "nbconvert_exporter": "python",
   "pygments_lexer": "ipython3",
   "version": "3.6.4"
  },
  "toc": {
   "base_numbering": 1,
   "nav_menu": {},
   "number_sections": true,
   "sideBar": true,
   "skip_h1_title": false,
   "title_cell": "Table of Contents",
   "title_sidebar": "Contents",
   "toc_cell": false,
   "toc_position": {
    "height": "calc(100% - 180px)",
    "left": "10px",
    "top": "150px",
    "width": "360px"
   },
   "toc_section_display": true,
   "toc_window_display": true
  }
 },
 "nbformat": 4,
 "nbformat_minor": 2
}
